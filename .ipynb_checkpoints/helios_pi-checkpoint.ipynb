{
 "cells": [
  {
   "cell_type": "markdown",
   "id": "4e13d9b1",
   "metadata": {},
   "source": [
    "# Raspberry Pi output\n",
    "Here we will look at an introduction how the raspberry PI GPIO pins can be used to trun on/off external components.\n",
    "\n",
    "Start by connecting the 5V of the breakout board to the red rail of the breadboard. And the ground of the breakout board to the blue rail. Also connect the upper and lower parts of the rail to to each other. We do this so that it is simple to connect new components to 5V and GND\n",
    "\n",
    "IMAGE\n"
   ]
  },
  {
   "cell_type": "markdown",
   "id": "e76b1b5e",
   "metadata": {},
   "source": [
    "Now connect a cable to GPIO pin 18 (G18 on the breakout board) and to anywhre on the board (orange). Then connect an LED and a 220 OHM resitor in series to G18 and to ground.\n",
    "\n",
    "IMAGE"
   ]
  },
  {
   "cell_type": "code",
   "execution_count": null,
   "id": "216873b6",
   "metadata": {},
   "outputs": [],
   "source": [
    "import RPi.GPIO as GPIO\n",
    "import time\n",
    "GPIO.setmode(GPIO.BCM)\n",
    "GPIO.setwarnings(False)\n",
    "GPIO.setup(18,GPIO.OUT)\n",
    "\n",
    "GPIO.output(18,GPIO.HIGH)\n",
    "time.sleep(2)\n",
    "GPIO.output(18,GPIO.LOW)\n",
    "\n",
    "GPIO.cleanup() "
   ]
  },
  {
   "cell_type": "markdown",
   "id": "e79dc26e",
   "metadata": {},
   "source": [
    "Now we have a good indicator that G18 is on. Let's try to control a larger current using G18 and a transistor.\n",
    "\n",
    "Instead of the LED and resitor going to ground, connect them to the base (middle pin) of a transitor. Connect the emittor (left pin) of the transistor to ground. In this way, when G18 is on, the transistor allows current to flow from the collector to ground.\n",
    "\n",
    "![im1](images/im1.jpeg)\n",
    "\n",
    "Now connect a 220 Ohm resistor and a Blue LED in series to the collector and 5V.\n",
    "\n",
    "IMAGE\n",
    "\n",
    "Run the same code as before\n"
   ]
  },
  {
   "cell_type": "code",
   "execution_count": null,
   "id": "55b78118",
   "metadata": {},
   "outputs": [],
   "source": [
    "import RPi.GPIO as GPIO\n",
    "import time\n",
    "GPIO.setmode(GPIO.BCM)\n",
    "GPIO.setwarnings(False)\n",
    "GPIO.setup(18,GPIO.OUT)\n",
    "\n",
    "GPIO.output(18,GPIO.HIGH)\n",
    "time.sleep(2)\n",
    "GPIO.output(18,GPIO.LOW)\n",
    "\n",
    "GPIO.cleanup() "
   ]
  },
  {
   "cell_type": "markdown",
   "id": "904d2031",
   "metadata": {},
   "source": [
    "We are now using G18, which is 3.3V to drive a larger potential of 5V to power the blue LED"
   ]
  },
  {
   "cell_type": "markdown",
   "id": "0426f6fe",
   "metadata": {},
   "source": [
    "G18 can only be on and off. 3.3V or 0.0V. But G18 has a special feature called Pulse Width Modulation (PWM), where in a time span of 1 second it is on/off a certain number of times. And we can vary the width of the ON pulses to vary the power output of G18. We can use this to vary the brightness the LEDs."
   ]
  },
  {
   "cell_type": "code",
   "execution_count": null,
   "id": "b402763b",
   "metadata": {},
   "outputs": [],
   "source": [
    "GPIO.setmode(GPIO.BCM)\n",
    "GPIO.setwarnings(False)\n",
    "GPIO.setup(18,GPIO.OUT)\n",
    "pi_pwm = GPIO.PWM(18,1000)#create PWM instance with frequency\n",
    "pi_pwm.start(0)#start PWM of required Duty Cycle\n",
    "\n",
    "pi_pwm.ChangeDutyCycle(100)\n",
    "time.sleep(1)\n",
    "pi_pwm.ChangeDutyCycle(75)\n",
    "time.sleep(1)\n",
    "pi_pwm.ChangeDutyCycle(50)\n",
    "time.sleep(1)\n",
    "pi_pwm.ChangeDutyCycle(25)\n",
    "time.sleep(1)\n",
    "pi_pwm.ChangeDutyCycle(10)\n",
    "time.sleep(1)\n",
    "pi_pwm.ChangeDutyCycle(0)\n",
    "time.sleep(1)\n",
    "pi_pwm.ChangeDutyCycle(10)\n",
    "time.sleep(1)\n",
    "pi_pwm.ChangeDutyCycle(25)\n",
    "time.sleep(1)\n",
    "pi_pwm.ChangeDutyCycle(50)\n",
    "time.sleep(1)\n",
    "pi_pwm.ChangeDutyCycle(75)\n",
    "time.sleep(1)\n",
    "pi_pwm.ChangeDutyCycle(100)\n",
    "time.sleep(1)\n",
    "\n",
    "pi_pwm.stop()\n",
    "GPIO.cleanup() "
   ]
  },
  {
   "cell_type": "markdown",
   "id": "bb4db1f3",
   "metadata": {},
   "source": [
    "EXERCIES: Any ideas how this can be useful?"
   ]
  },
  {
   "cell_type": "markdown",
   "id": "ddca3b51",
   "metadata": {},
   "source": [
    "# ADC and voltage dividers\n",
    "\n",
    "Next we want to create a voltage divider between 5V and ground and measure it's voltage\n",
    "\n",
    "On the other half of the breadboard, connect a wire to 5V and out some distance on the breadboard\n",
    "\n",
    "IMAGE\n",
    "\n",
    "In series to the 5V, conenct a 91 kOhm ressistor, a NTC thermistor, and ground. Keep the long legs of the NTC, you  will need them later. Connect an open ended cable (probe) where the resistor and NTC are connected togehter.\n",
    "\n",
    "IMAGE\n",
    "\n",
    "**Always use probes like this, if you slip with the probes of the voltmeter you can physically destry the Raspberry Pi. IF you accidentally conec 5V and 3.3V the raspberry Pi dies instantly.**"
   ]
  },
  {
   "cell_type": "markdown",
   "id": "66e9284f",
   "metadata": {},
   "source": [
    "EXERCIES: Calculate the voltage at the probe.\\\n"
   ]
  },
  {
   "cell_type": "markdown",
   "id": "9c47cb0f",
   "metadata": {},
   "source": [
    "Connect the probe to A0 on the raspberry pi hat\n",
    "\n",
    "IMAGE"
   ]
  },
  {
   "cell_type": "code",
   "execution_count": null,
   "id": "37b66140",
   "metadata": {},
   "outputs": [],
   "source": [
    "import i2c_module\n",
    "import adc_module\n",
    "\n",
    "adc = adc_module.ADC()\n",
    "channel=0\n",
    "millli_volts = adc.read_voltage(channel)\n",
    "volts = millli_volts/1000\n",
    "print(volts)"
   ]
  },
  {
   "cell_type": "markdown",
   "id": "e2e12e9e",
   "metadata": {},
   "source": [
    "EXERCIES: why is it dfferent from the calculated value?\\\n",
    "EXERCIES: The ADC is 12-bit and can measure between 0 and 3.3 volts. What resistance should the 91 kOhm resistor have to maximize the range?, i,e to have 1.65 Volts over the NTC?"
   ]
  },
  {
   "cell_type": "markdown",
   "id": "06a6d0f7",
   "metadata": {},
   "source": [
    "## Measuring temperature\n",
    "\n",
    "\n",
    "To calcualte the temperature of the NTC we follow a mathematical function given by the manufacturer. This function requires some parameters."
   ]
  },
  {
   "cell_type": "code",
   "execution_count": null,
   "id": "738079f9",
   "metadata": {},
   "outputs": [],
   "source": [
    "channel = 0\n",
    "R0 = 10000\n",
    "b = 3936\n",
    "Rfx = 91000\n",
    "voltage = 5.2\n",
    "adc = adc_module.ADC()\n",
    "\n",
    "deltav=voltage\n",
    "Vin=adc.read_voltage(channel)/1000\n",
    "To=298.0  #To of NTC\n",
    "Ri=int(R0)*math.exp(-int(b)/To)\n",
    "#Rn=(Vin*int(self.__Rfx))/((deltav*2)-Vin) # BNL version\n",
    "Rn=(Vin*int(Rfx))/((deltav)-Vin)\n",
    "T=int(b)/(math.log(Rn/Ri))-273\n",
    "\n",
    "print(T)"
   ]
  },
  {
   "cell_type": "markdown",
   "id": "4b0a06a1",
   "metadata": {},
   "source": [
    "This is very messy to write each time we want a temperature, so therefore we create a tmperature sensor calss, which has a function \"read_temperature\". In our script, we can then create as sensor object, and call the read_temperature function of this object each time we wnat a temperature reading"
   ]
  },
  {
   "cell_type": "code",
   "execution_count": null,
   "id": "b3a21e42",
   "metadata": {},
   "outputs": [],
   "source": [
    "import math\n",
    "import i2c_module\n",
    "import adc_module\n",
    "\n",
    "class NTC:\n",
    "    def __init__(self,channel,voltage):\n",
    "        self.channel = channel\n",
    "        self.R0 = 10000\n",
    "        self.b = 3936\n",
    "        self.Rfx = 91000\n",
    "        self.voltage = voltage\n",
    "        self.adc = adc_module.ADC()\n",
    "\n",
    "    def read_temperature(self):\n",
    "        deltav=self.voltage\n",
    "        Vin=self.adc.read_voltage(self.channel)/1000\n",
    "        To=298.0  #To of NTC\n",
    "        Ri=int(self.R0)*math.exp(-int(self.b)/To)\n",
    "        #Rn=(Vin*int(self.__Rfx))/((deltav*2)-Vin) # BNL version\n",
    "        Rn=(Vin*int(self.Rfx))/((deltav)-Vin)\n",
    "        T=int(self.b)/(math.log(Rn/Ri))-273\n",
    "        return round(T,2)"
   ]
  },
  {
   "cell_type": "markdown",
   "id": "65db0d22",
   "metadata": {},
   "source": [
    "After the class is defined, we create an object of that class, and assign it to avariable name"
   ]
  },
  {
   "cell_type": "code",
   "execution_count": null,
   "id": "2ac88287",
   "metadata": {},
   "outputs": [],
   "source": [
    "sensor_1 = NTC(0,5.21)"
   ]
  },
  {
   "cell_type": "markdown",
   "id": "b1d79e55",
   "metadata": {},
   "source": [
    "We can then very easily read the temperature in one line"
   ]
  },
  {
   "cell_type": "code",
   "execution_count": null,
   "id": "f8635fbe",
   "metadata": {},
   "outputs": [],
   "source": [
    "print(sensor_1.read_temperature())"
   ]
  },
  {
   "cell_type": "markdown",
   "id": "4b2fcce2",
   "metadata": {},
   "source": [
    "We can also read out the temperature continiously in a for loop. Click the stop symbol at the top to stop it."
   ]
  },
  {
   "cell_type": "code",
   "execution_count": null,
   "id": "ec9e7394",
   "metadata": {},
   "outputs": [],
   "source": [
    "import time\n",
    "for i in range(0,60):\n",
    "    print('Temperature', f\"{sensor_1.read_temperature()} C\", end='\\r')\n",
    "    time.sleep(1)"
   ]
  },
  {
   "cell_type": "markdown",
   "id": "26fe309c",
   "metadata": {},
   "source": [
    "**Unplugg the 5V of the votlage divider**. Now bend the NTC so that it touchse the resistor of the blue ntc. make sure that the legs of the NTC are not touchin each other, this would short circuit the NTC. Re-insert the 5V What happens to the tmeperature when G18 is on?"
   ]
  },
  {
   "cell_type": "code",
   "execution_count": null,
   "id": "037f4f49",
   "metadata": {},
   "outputs": [],
   "source": [
    "import RPi.GPIO as GPIO\n",
    "\n",
    "GPIO.setmode(GPIO.BCM)\n",
    "GPIO.setwarnings(False)\n",
    "GPIO.setup(18,GPIO.OUT)\n",
    "pi_pwm = GPIO.PWM(18,1000)#create PWM instance with frequency\n",
    "pi_pwm.start(0)#start PWM of required Duty Cycle\n",
    "\n",
    "print(f\"Initial temperature: {sensor_1.read_temperature()}\")\n",
    "\n",
    "pi_pwm.ChangeDutyCycle(100)\n",
    "\n",
    "try:\n",
    "    for i in range(0,60):\n",
    "        print('Temperature', f\"{sensor_1.read_temperature()} C\", end='\\r')\n",
    "        time.sleep(1)\n",
    "\n",
    "except KeyboardInterrupt:\n",
    "    print(f\"Final temperature: {sensor_1.read_temperature()}\")\n",
    "    pi_pwm.stop()\n",
    "    sys.exit()\n",
    "\n",
    "print(f\"Final temperature: {sensor_1.read_temperature()}\")\n",
    "pi_pwm.stop()\n",
    "GPIO.cleanup() "
   ]
  },
  {
   "cell_type": "markdown",
   "id": "309d869d",
   "metadata": {},
   "source": [
    "Unplugg the 5V to the blue LED. Replace the blue LED and its resistor with a big 55 Ohm resistor. Re-connect the 5V, now to the 55 Ohm reisstor.\n",
    "\n",
    "IMAGE"
   ]
  },
  {
   "cell_type": "code",
   "execution_count": null,
   "id": "1ef03751",
   "metadata": {},
   "outputs": [],
   "source": [
    "import RPi.GPIO as GPIO\n",
    "\n",
    "GPIO.setmode(GPIO.BCM)\n",
    "GPIO.setwarnings(False)\n",
    "GPIO.setup(18,GPIO.OUT)\n",
    "pi_pwm = GPIO.PWM(18,1000)#create PWM instance with frequency\n",
    "pi_pwm.start(0)#start PWM of required Duty Cycle\n",
    "\n",
    "print(f\"Initial temperature: {sensor_1.read_temperature()}\")\n",
    "\n",
    "pi_pwm.ChangeDutyCycle(100)\n",
    "\n",
    "try:\n",
    "    for i in range(0,20):\n",
    "        print('Temperature', f\"{sensor_1.read_temperature()} C\", end='\\r')\n",
    "        time.sleep(1)\n",
    "\n",
    "except KeyboardInterrupt:\n",
    "    print(f\"Final temperature: {sensor_1.read_temperature()}\")\n",
    "    pi_pwm.stop()\n",
    "    sys.exit()\n",
    "\n",
    "print(f\"Final temperature: {sensor_1.read_temperature()}\")\n",
    "pi_pwm.stop()\n",
    "GPIO.cleanup() "
   ]
  },
  {
   "cell_type": "markdown",
   "id": "fd58f0c3",
   "metadata": {},
   "source": [
    "# Control systems, PID"
   ]
  },
  {
   "cell_type": "markdown",
   "id": "3404cb36",
   "metadata": {},
   "source": [
    "We import the necessary modules "
   ]
  },
  {
   "cell_type": "code",
   "execution_count": null,
   "id": "71caa7e7",
   "metadata": {},
   "outputs": [],
   "source": [
    "import RPi.GPIO as GPIO\n",
    "import time\n",
    "import sys\n",
    "from jupyterplot import ProgressPlot\n",
    "import numpy as np"
   ]
  },
  {
   "cell_type": "markdown",
   "id": "9d406c88",
   "metadata": {},
   "source": [
    "Define initial parameters"
   ]
  },
  {
   "cell_type": "code",
   "execution_count": null,
   "id": "0d8b9d6d",
   "metadata": {},
   "outputs": [],
   "source": [
    "# Setup GPIO18 for PWM control of the power through the resistor\n",
    "GPIO.setmode(GPIO.BCM)\n",
    "GPIO.setwarnings(False)\n",
    "GPIO.setup(18,GPIO.OUT)\n",
    "pi_pwm = GPIO.PWM(18,1000)#create PWM instance with frequency\n",
    "\n",
    "# Define limits of our output\n",
    "duty_upper_limit = 100\n",
    "duty_lower_limit = 0\n",
    "\n",
    "# Set current time in seconds, and set the time limit\n",
    "current_time=0\n",
    "target_time=60*5\n",
    "time_list=[]\n",
    "time_list.append(0)\n",
    "\n",
    "# Define target temperature\n",
    "target_temperature = 40\n",
    "\n",
    "# Create a temperature sensor object\n",
    "sensor_1 = NTC(0,5.21)\n",
    "\n",
    "# Create an empty list to hold temperature values\n",
    "temperature_list=[]\n",
    "\n",
    "# PID part\n",
    "\n",
    "# Proportional\n",
    "kp = 15 # Constant for the proportinal part\n",
    "\n",
    "# Interal\n",
    "ki = 0.4 # Constant for the integral part\n",
    "integral_list=[]    # List to hold difference between current temperature and target temperature\n",
    "                    #The sum of this list is the integral\n",
    "saturated = True   # If the duty cycle is larger than 100 or less than 0 our system is saturated.\n",
    "                    # And the integral stops integrating. This is necessary to prevent \"Integral wind-up\"\n",
    "\n",
    "# Derivative \n",
    "kd = 20 # Constant for the derivative part"
   ]
  },
  {
   "cell_type": "markdown",
   "id": "a160d639",
   "metadata": {},
   "source": [
    "Run PID"
   ]
  },
  {
   "cell_type": "code",
   "execution_count": null,
   "id": "16edc645",
   "metadata": {},
   "outputs": [],
   "source": [
    "# Initialise plotting\n",
    "pp = ProgressPlot(plot_names=['Temperature', 'Proportional', 'Integral', 'Derivative'], x_lim=[0, 60*5], y_lim=[[25, 60],[0, 100],[0, 100],[0, 100]])\n",
    "\n",
    "integral_list=[] # Make sure integral list is empty if only this cell is run\n",
    "pi_pwm.start(0)#start PWM of required Duty Cycle \n",
    "iterator = 0 # Iterator used to keep derivative fit range small\n",
    "\n",
    "# We put the loop in a try/except block so that if you cancel prematurely,\n",
    "# the program still exits gracefully without leaving the hot resistor on\n",
    "try:\n",
    "    #While loopf for as long as the current time is less than the target\n",
    "    while current_time<target_time:\n",
    "        t0 = time.monotonic() # Start a stop watch to see how long one loop takes\n",
    "        \n",
    "        # Read the current temperature and append to a list\n",
    "        # This list is used to calculate the derivative\n",
    "        current_temperature = sensor_1.read_temperature() \n",
    "        temperature_list.append(current_temperature)\n",
    "        \n",
    "        # Calcualte the difference between the target temperatrue and current temperature.\n",
    "        # Often called the \"error\"\n",
    "        temperature_difference = target_temperature - current_temperature\n",
    "        \n",
    "        # Proportional\n",
    "        # The proportional part is just the error times the factor kp\n",
    "        P = temperature_difference * kp\n",
    "        \n",
    "        # Intergral\n",
    "        # The integral part is only the integral of all errros so far\n",
    "        # Since we use regular 1 second integra, we can simply use the sum\n",
    "        if saturated != True: # If the output is saturated, we do not att to the integral\n",
    "            integral_list.append(temperature_difference)\n",
    "        integral = sum(integral_list)\n",
    "        I = integral * ki\n",
    "        \n",
    "        # Derivative\n",
    "        # The derivative part is the slope of the temperature times kd\n",
    "        try:\n",
    "            slope = np.polyfit(time_list[iterator-7:iterator], temperature_list[iterator-7:iterator], 1)[0]\n",
    "            D = slope * kd\n",
    "        except TypeError:\n",
    "            D=0\n",
    "        except ValueError:\n",
    "            D=0\n",
    "        \n",
    "        # Propose an output value which is the sum of P and I minus D. Because we want D\n",
    "        # To counteract large rapid changes\n",
    "        proposed_duty = P + I - D\n",
    "        \n",
    "        # Check if value is within physical limits, if not set saturated to true to stop the integral.\n",
    "        if proposed_duty > duty_upper_limit:\n",
    "            saturated = True\n",
    "            applied_duty = duty_upper_limit\n",
    "        elif proposed_duty < duty_lower_limit:\n",
    "            saturated = True\n",
    "            applied_duty = duty_lower_limit\n",
    "        else:\n",
    "            saturated = False\n",
    "            applied_duty = proposed_duty\n",
    "\n",
    "        # Apply the proposed or modified proposed value at the limits\n",
    "        pi_pwm.ChangeDutyCycle(applied_duty)\n",
    "        \n",
    "        # Update plots\n",
    "        pp.update([[current_temperature],[P],[I],[D]])\n",
    "\n",
    "        # Calculate the time taken for everything and add what is needed for it to take 1 second to run\n",
    "        t1 = time.monotonic()\n",
    "        dt = t1 - t0\n",
    "        sleep_time = 1 - dt\n",
    "        time.sleep(sleep_time)\n",
    "        \n",
    "        # Append current time\n",
    "        current_time = current_time + dt +sleep_time\n",
    "        time_list.append(current_time)\n",
    "        \n",
    "        # Iterator used to keep derivative fit range small\n",
    "        iterator +=1\n",
    "            \n",
    "# Exit gracefully\n",
    "except KeyboardInterrupt:\n",
    "    pi_pwm.stop()\n",
    "    pp.finalize()\n",
    "    sys.exit()\n",
    "\n",
    "pi_pwm.stop()\n",
    "pp.finalize()\n",
    "sys.exit()\n"
   ]
  },
  {
   "cell_type": "code",
   "execution_count": null,
   "id": "2414e844",
   "metadata": {},
   "outputs": [],
   "source": []
  }
 ],
 "metadata": {
  "kernelspec": {
   "display_name": "Python 3",
   "language": "python",
   "name": "python3"
  },
  "language_info": {
   "codemirror_mode": {
    "name": "ipython",
    "version": 3
   },
   "file_extension": ".py",
   "mimetype": "text/x-python",
   "name": "python",
   "nbconvert_exporter": "python",
   "pygments_lexer": "ipython3",
   "version": "3.9.2"
  }
 },
 "nbformat": 4,
 "nbformat_minor": 5
}

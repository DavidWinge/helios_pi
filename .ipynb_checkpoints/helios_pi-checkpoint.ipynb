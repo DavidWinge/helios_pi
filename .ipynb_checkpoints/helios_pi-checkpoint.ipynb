{
 "cells": [
  {
   "cell_type": "markdown",
   "id": "4e30e1db",
   "metadata": {},
   "source": [
    "# Raspberry Pi output\n",
    "Here we will look at an introduction how the raspberry PI GPIO pins can be used to trun on/off external components.\n",
    "\n",
    "Start by connecting the 5V of the breakout board to the red rail of the breadboard. And the ground of the breakout board to the blue rail. Also connect the upper and lower parts of the rail to to each other. We do this so that it is simple to connect new components to 5V and GND\n",
    "\n",
    "IMAGE\n"
   ]
  },
  {
   "cell_type": "markdown",
   "id": "ede97833",
   "metadata": {},
   "source": [
    "Now connect a cable to GPIO pin 18 (G18 on the breakout board) and to anywhre on the board (orange). Then connect an LED and a 220 OHM resitor in series to G18 and to ground.\n",
    "\n",
    "IMAGE"
   ]
  },
  {
   "cell_type": "code",
   "execution_count": 7,
   "id": "6e5860d7",
   "metadata": {},
   "outputs": [],
   "source": [
    "import RPi.GPIO as GPIO\n",
    "import time\n",
    "GPIO.setmode(GPIO.BCM)\n",
    "GPIO.setwarnings(False)\n",
    "GPIO.setup(18,GPIO.OUT)\n",
    "\n",
    "GPIO.output(18,GPIO.HIGH)\n",
    "time.sleep(2)\n",
    "GPIO.output(18,GPIO.LOW)\n",
    "\n",
    "GPIO.cleanup() "
   ]
  },
  {
   "cell_type": "markdown",
   "id": "a74528f7",
   "metadata": {},
   "source": [
    "Now we have a good indicator that G18 is on. Let's try to control a larger current using G18 and a transistor.\n",
    "\n",
    "Instead of the LED and resitor going to ground, connect them to the base (middle pin) of a transitor. Connect the emittor (left pin) of the transistor to ground. In this way, when G18 is on, the transistor allows current to flow from the collector to ground.\n",
    "\n",
    "IMAGE\n",
    "\n",
    "Now connect a 220 Ohm resistor and a Blue LED in series to the collector and 5V.\n",
    "\n",
    "IMAGE\n",
    "\n",
    "Run the same code as before\n"
   ]
  },
  {
   "cell_type": "code",
   "execution_count": 8,
   "id": "de60b9c3",
   "metadata": {},
   "outputs": [],
   "source": [
    "import RPi.GPIO as GPIO\n",
    "import time\n",
    "GPIO.setmode(GPIO.BCM)\n",
    "GPIO.setwarnings(False)\n",
    "GPIO.setup(18,GPIO.OUT)\n",
    "\n",
    "GPIO.output(18,GPIO.HIGH)\n",
    "time.sleep(2)\n",
    "GPIO.output(18,GPIO.LOW)\n",
    "\n",
    "GPIO.cleanup() "
   ]
  },
  {
   "cell_type": "markdown",
   "id": "a16165e3",
   "metadata": {},
   "source": [
    "We are now using G18, which is 3.3V to drive a larger potential of 5V to power the blue LED"
   ]
  },
  {
   "cell_type": "markdown",
   "id": "a2ec0656",
   "metadata": {},
   "source": [
    "G18 can only be on and off. 3.3V or 0.0V. But G18 has a special feature called Pulse Width Modulation (PWM), where in a time span of 1 second it is on/off a certain number of times. And we can vary the width of the ON pulses to vary the power output of G18. We can use this to vary the brightness the LEDs."
   ]
  },
  {
   "cell_type": "code",
   "execution_count": 11,
   "id": "914af33c",
   "metadata": {},
   "outputs": [],
   "source": [
    "GPIO.setmode(GPIO.BCM)\n",
    "GPIO.setwarnings(False)\n",
    "GPIO.setup(18,GPIO.OUT)\n",
    "pi_pwm = GPIO.PWM(18,1000)#create PWM instance with frequency\n",
    "pi_pwm.start(0)#start PWM of required Duty Cycle\n",
    "\n",
    "pi_pwm.ChangeDutyCycle(100)\n",
    "time.sleep(1)\n",
    "pi_pwm.ChangeDutyCycle(75)\n",
    "time.sleep(1)\n",
    "pi_pwm.ChangeDutyCycle(50)\n",
    "time.sleep(1)\n",
    "pi_pwm.ChangeDutyCycle(25)\n",
    "time.sleep(1)\n",
    "pi_pwm.ChangeDutyCycle(10)\n",
    "time.sleep(1)\n",
    "pi_pwm.ChangeDutyCycle(0)\n",
    "time.sleep(1)\n",
    "pi_pwm.ChangeDutyCycle(10)\n",
    "time.sleep(1)\n",
    "pi_pwm.ChangeDutyCycle(25)\n",
    "time.sleep(1)\n",
    "pi_pwm.ChangeDutyCycle(50)\n",
    "time.sleep(1)\n",
    "pi_pwm.ChangeDutyCycle(75)\n",
    "time.sleep(1)\n",
    "pi_pwm.ChangeDutyCycle(100)\n",
    "time.sleep(1)\n",
    "\n",
    "pi_pwm.stop()\n",
    "GPIO.cleanup() "
   ]
  },
  {
   "cell_type": "code",
   "execution_count": null,
   "id": "2bb9a79a",
   "metadata": {},
   "outputs": [],
   "source": []
  }
 ],
 "metadata": {
  "kernelspec": {
   "display_name": "Python 3",
   "language": "python",
   "name": "python3"
  },
  "language_info": {
   "codemirror_mode": {
    "name": "ipython",
    "version": 3
   },
   "file_extension": ".py",
   "mimetype": "text/x-python",
   "name": "python",
   "nbconvert_exporter": "python",
   "pygments_lexer": "ipython3",
   "version": "3.9.2"
  }
 },
 "nbformat": 4,
 "nbformat_minor": 5
}

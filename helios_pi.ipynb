{
 "cells": [
  {
   "cell_type": "markdown",
   "id": "99178eb8",
   "metadata": {},
   "source": [
    "# Safety\n",
    "### Unplug power before touching anything\n",
    "This is what the setup will look like while you are working on it:\n",
    "![](images/neutral.jpg)\n",
    "Before you change any of the electrical connections on the setup, you first need to unplugg the power, as shown here:\n",
    "![](images/disconnected.jpg)\n",
    "We do this because as we move connections we can accidentally touch other components, and we can also wirde things up the wrong way before we have the time to double check. If the power is on, and you accidentally put 5V to the wrong pin of the Raspberry Pi it will die immediately.  The Raspberry Pi is not the cheap €35 that it used to be, the modeul you are given today is closer to €100. So be careful and triple check your wiring!\n",
    "\n",
    "### Triple check your wiring with the reference\n",
    "Each wiring exercise will use a hand-draw circuit diagram. Try to follow this to the best of your ability. Once you are done, before you apply power, compare your setup to one of the images referenced in the exercise.\n",
    "\n",
    "### If using a multimeter, use extended probe wires\n",
    "Multimeters are a great tool for trouble shooting electronics, and in this case power has to be on in order to do anything useful. Never mesure directly on a component as seen below:\n",
    "![](images/dangerous_probes.jpg)\n",
    "If you slip with the probes a tiny bit you will ned up here:\n",
    "![](images/failed_probes.jpg)\n",
    "It doesn't look like much, but in this picture the red probe is connecting the 5V and the 3.3V, and the Raspberry Pi will die immediately. (This exact thing happened to my supervisor)\n",
    "\n",
    "### Have fun!\n",
    "All this sounds scary, but failure is a necessary part of learning. If I dind't break mine in the making of the course the chance is low that you will break yours today."
   ]
  },
  {
   "cell_type": "markdown",
   "id": "4e13d9b1",
   "metadata": {},
   "source": [
    "# Raspberry Pi output\n",
    "\n",
    "[//]: # (Pico: A zoomed out picture when one can see how the red breakout board connects to the Pi itself would be great!)\n",
    "\n",
    "Here we will look at an introduction to what the Raspberry Pi GPIO pins are and how the pins can be used to turn external components on/off.\n",
    "\n",
    "Start by connecting the 5V of the red breakout board to the red rail of the breadboard (Long vertival line marked with a **+**). Connect the ground of the breakout board to the blue rail. Also connect the upper and lower parts of the rail to to each other. We do this so that it is simple to connect new components to 5V and GND\n",
    "\n",
    "![](images/im1.jpg)\n"
   ]
  },
  {
   "cell_type": "markdown",
   "id": "e76b1b5e",
   "metadata": {},
   "source": [
    "## Controlling LEDs\n",
    "\n",
    "Following the diagram below, connect a wire to GPIO pin 18 (G18 on the red breakout board) and to anywhere on the board. Then connect an LED and a 220 OHM resitor in series to G18 and to ground. Make sure that you understand [how connections on a breadboard works first](https://learn.sparkfun.com/tutorials/how-to-use-a-breadboard/all).\n",
    "\n",
    "![](images/diagram_1.jpeg)\n",
    "Circuit reference image can be found at /images/im2.jpg\n",
    "<!---![](images/im2.jpg)-->"
   ]
  },
  {
   "cell_type": "markdown",
   "id": "74ebdcac",
   "metadata": {},
   "source": [
    "The code below will \n",
    "- Initialize the Raspberry Pi's output pins, called GPIO\n",
    "- turn ON pin 18 providing 3.3 V to our LED \n",
    "- wait for 2 seconds, turns OFF the output\n",
    "- clean up the GPIO objects."
   ]
  },
  {
   "cell_type": "code",
   "execution_count": null,
   "id": "216873b6",
   "metadata": {},
   "outputs": [],
   "source": [
    "# Initialize the output pins enabling 18 as output\n",
    "import RPi.GPIO as GPIO\n",
    "import time\n",
    "import scramble\n",
    "GPIO.setmode(GPIO.BCM)\n",
    "GPIO.setwarnings(False)\n",
    "GPIO.setup(18,GPIO.OUT)\n",
    "\n",
    "# set the output of pin 18 to HIGH (3.3V)\n",
    "GPIO.output(18,GPIO.HIGH)\n",
    "print(\"LED is on\")\n",
    "\n",
    "# wait two seconds\n",
    "time.sleep(2)\n",
    "\n",
    "# set the ouput of pin 18 to LOW (0V)\n",
    "GPIO.output(18,GPIO.LOW)\n",
    "print(\"LED is off\")\n",
    "\n",
    "# clean up the GPIO objects\n",
    "GPIO.cleanup()\n",
    "\n",
    "##\n",
    "## For advance users... you can make this into a function, pin number and wait can be arguments for instance\n",
    "##"
   ]
  },
  {
   "cell_type": "markdown",
   "id": "fb3a44aa",
   "metadata": {},
   "source": [
    "**Exercise:** Add a second Yellow LED and control it using G17.\\\n",
    "**Exercise:** Changing the code above, make the LED blink 10 times in 10 seconds\\\n",
    "**Exercise:** Make the two LEDs blink one after the other"
   ]
  },
  {
   "cell_type": "markdown",
   "id": "e79dc26e",
   "metadata": {},
   "source": [
    "## Controlling Transistors\n",
    "\n",
    "Now that we have a good indicator that we can control G18, let's try to control a larger current using the combination of G18 and a transistor.\n",
    "\n",
    "Instead of the original red LED and resitor going to ground, connect them to the base of our transitor (middle pin). Connect the emittor of the transistor to ground (left pin). In this way, when G18 is ON, the transistor allows current to flow from the collector to ground. Now connect a 220 Ohm resistor and a Blue LED in series with to the collector and 5V.\n",
    "![](images/diagram_2.jpeg)\n",
    "Circuit reference image can be found at /images/im4.jpg\n",
    "\n",
    "<!---![](images/im3.jpg)-->\n",
    "\n",
    "<!---![](images/im4.jpg)-->\n",
    "\n",
    "Run the same code as before for the red LED. You can find a copy of the original code below:"
   ]
  },
  {
   "cell_type": "code",
   "execution_count": null,
   "id": "55b78118",
   "metadata": {},
   "outputs": [],
   "source": [
    "# Initialize the output pins enabling 18 as output\n",
    "import RPi.GPIO as GPIO\n",
    "import time\n",
    "GPIO.setmode(GPIO.BCM)\n",
    "GPIO.setwarnings(False)\n",
    "GPIO.setup(18,GPIO.OUT)\n",
    "\n",
    "# set the output of pin 18 to HIGH (3.3V)\n",
    "GPIO.output(18,GPIO.HIGH)\n",
    "print(\"LED is on\")\n",
    "\n",
    "# wait two seconds\n",
    "time.sleep(2)\n",
    "\n",
    "# set the ouput of pin 18 to LOW (0V)\n",
    "GPIO.output(18,GPIO.LOW)\n",
    "print(\"LED is off\")\n",
    "\n",
    "# clean up the GPIO objects\n",
    "GPIO.cleanup() \n",
    "\n",
    "#\n",
    "# Alternatively just run the already defined function from before ;-)\n",
    "#"
   ]
  },
  {
   "cell_type": "markdown",
   "id": "904d2031",
   "metadata": {},
   "source": [
    "**Exercise:** Which LED is the brightest, and why?\\\n",
    "**Exercise:** Name one place in your home where this could be usefu\\\n",
    "**Exercise:** Name one place in your research where this could be useful"
   ]
  },
  {
   "cell_type": "markdown",
   "id": "0426f6fe",
   "metadata": {},
   "source": [
    "## Pulse Width Modulation (PWM)\n",
    "G18 can only be ON or OFF, 3.3V or 0.0V. But G18 has a special feature called Pulse Width Modulation (PWM), where in a time span of 1 second it is ON/OFF a certain number of times for a certain duration. https://en.wikipedia.org/wiki/Pulse-width_modulation\n",
    "\n",
    "We can vary the width of the ON pulses to vary the power output of G18. We can use this to vary the brightness the LEDs.\\\n",
    "**Exercise:** Can you guess what turning an LED on and OFF very quickly this will do to an LED?"
   ]
  },
  {
   "cell_type": "code",
   "execution_count": null,
   "id": "b402763b",
   "metadata": {},
   "outputs": [],
   "source": [
    "# Initialize the output pins enabling 18 as output\n",
    "import RPi.GPIO as GPIO\n",
    "import time\n",
    "GPIO.setmode(GPIO.BCM)\n",
    "GPIO.setwarnings(False)\n",
    "GPIO.setup(18,GPIO.OUT)\n",
    "\n",
    "# create PWM instance with frequency, and\n",
    "# start PWM of required Duty Cycle\n",
    "pi_pwm = GPIO.PWM(18,1000)\n",
    "pi_pwm.start(0)\n",
    "\n",
    "# Now let's play with the PWM 1 second at a time\n",
    "pi_pwm.ChangeDutyCycle(100)\n",
    "time.sleep(1)\n",
    "pi_pwm.ChangeDutyCycle(75)\n",
    "time.sleep(1)\n",
    "pi_pwm.ChangeDutyCycle(50)\n",
    "time.sleep(1)\n",
    "pi_pwm.ChangeDutyCycle(25)\n",
    "time.sleep(1)\n",
    "pi_pwm.ChangeDutyCycle(10)\n",
    "time.sleep(1)\n",
    "pi_pwm.ChangeDutyCycle(0)\n",
    "time.sleep(1)\n",
    "pi_pwm.ChangeDutyCycle(10)\n",
    "time.sleep(1)\n",
    "pi_pwm.ChangeDutyCycle(25)\n",
    "time.sleep(1)\n",
    "pi_pwm.ChangeDutyCycle(50)\n",
    "time.sleep(1)\n",
    "pi_pwm.ChangeDutyCycle(75)\n",
    "time.sleep(1)\n",
    "pi_pwm.ChangeDutyCycle(100)\n",
    "time.sleep(1)\n",
    "\n",
    "# Stop the PWM instance\n",
    "pi_pwm.stop()\n",
    "\n",
    "# clean up the GPIO objects\n",
    "GPIO.cleanup() "
   ]
  },
  {
   "cell_type": "markdown",
   "id": "bb4db1f3",
   "metadata": {},
   "source": [
    "**Exercise 1**: Any ideas how this can be useful?\n",
    "\n",
    "[//]: # (Maybe you want to program some music lights with this?)"
   ]
  },
  {
   "cell_type": "code",
   "execution_count": null,
   "id": "b6050120",
   "metadata": {},
   "outputs": [],
   "source": [
    "answer_1 = \"¨òĆćđ¾ćđ¾ÿ¾đćċĎĊă¾ĕÿė¾Ēč¾āĆÿČąă¾ĒĆă¾ÿċčēČĒ¾čĄ¾ĎčĕăĐ¾ĎēĒ¾ćČĒč¾ÿ¾ĂăĔćāăÌ¾çČđĒăÿĂ¾čĄ¾ĆÿĔćČą¾ÿČ¾ăĊăāĒĐćāÿĊ¾ċčĒčĐ¨¨íìÍíää¾ÿĒ¾ĄēĊĊ¾đĎăăĂ¾čĐ¾Čč¾đĎăăĂÊ¾îõë¾āÿČ¾Āă¾ēđăĂ¾Ēč¾ĐēČ¾ĒĆă¾ċčĒčĐ¾ÿĒ¾ĂćĄĄăĐăČĒ¾đĎăăĂđ¨\"\n",
    "scramble.unscramble(answer_1,\"elk\")"
   ]
  },
  {
   "cell_type": "markdown",
   "id": "ddca3b51",
   "metadata": {},
   "source": [
    "# ADC and voltage dividers\n",
    "\n",
    "Next we want to create a voltage divider between 5V and ground and measure the voltage in the middle. On the other half of the breadboard opposite to your LED and transistor setup, connect a wire to 5V and out some distance on the breadboard, like this:\n",
    "\n",
    "![](images/im5.jpg)\n",
    "\n",
    "In series to the 5V wire, connect a 91 kOhm resistor, a NTC thermistor, and ground. Keep the long legs of the NTC, you  will need them later. Connect an open ended cable where the resistor and NTC are connected together. We call this the probe. Connect the probe to analog input 0 (A0) on the ADC. Make sure not to connect it to ground or 3.3V. When you are done, have a look at the reference image at /images/im6.jpg\n",
    "\n",
    "![](images/diagram_3.jpeg)\n",
    "\n",
    "<!---![](images/im6.jpg)-->\n",
    "\n",
    "**Rembember, that if you want to double check something with a hand-held multimeter you must always use extended probes wires as outlined in the safety section at the top of this notebook.**\n",
    "\n",
    "**Exercise**: With 5V, a 91 kOhm resistor, a probe, and a 10 kOhm NTC (at room temperature). Calculate the \"theoretical\" voltage at your probe."
   ]
  },
  {
   "cell_type": "markdown",
   "id": "66e9284f",
   "metadata": {},
   "source": [
    "The code below will use the ADC hat of your Raspberry Pi. A Raspberry Pi hat is a hardware extension that goes on top of your Pi. An ADC is an \"Analog to Digital Coverter\", it converts analog signals to digital signals. It allows our Raspberry Pi to read voltages. The code below imports the modules necessary for the ADC hat to run, and it then measures the voltage at ADC channel 0\n",
    "\n",
    "**WARNING! The ADC hat can only measure up to 3.3V, never plug it directly to 5V**"
   ]
  },
  {
   "cell_type": "code",
   "execution_count": null,
   "id": "37b66140",
   "metadata": {},
   "outputs": [],
   "source": [
    "import i2c_module\n",
    "import adc_module\n",
    "\n",
    "adc = adc_module.ADC()\n",
    "channel=0\n",
    "milli=1000\n",
    "milli_volts = adc.read_voltage(channel)\n",
    "volts = milli_volts/milli\n",
    "print(f\"Voltage at probe: {volts} V\")"
   ]
  },
  {
   "cell_type": "markdown",
   "id": "e2e12e9e",
   "metadata": {},
   "source": [
    "**Exercise**: Is there a difference between the measured and calculated value? if so, can you think why or why not?\\\n",
    "**Exercise**: The ADC has a 12-bit precision and can measure between 0 and 3.3 volts. What value should the 91 kOhm resistor have to maximize the measurement range? i.e What resistance should we use inorder to have 1.65 volts over the NTC at room temperature?\\\n",
    "**Exercise**: Copy the code from the PWM example. Take a new wire, plug it in to channel 2 of the ADC hat and measure the voltage between the red LED and its resistor. Change the code so that it prints the voltage at each decrease in LED brightness. What do you expect to se?"
   ]
  },
  {
   "cell_type": "markdown",
   "id": "06a6d0f7",
   "metadata": {},
   "source": [
    "## Measuring temperature\n",
    "\n",
    "\n",
    "To calculate the temperature of the NTC we follow a mathematical function given by the manufacturer. This function requires some parameters.\n",
    "\n",
    "[//]: # (TODO: add a link to the function from the manufacturer)"
   ]
  },
  {
   "cell_type": "code",
   "execution_count": null,
   "id": "738079f9",
   "metadata": {},
   "outputs": [],
   "source": [
    "import math\n",
    "\n",
    "# define parameters\n",
    "channel = 0\n",
    "R0 = 10000\n",
    "b = 3936\n",
    "Rfx = 91000\n",
    "voltage = 5.2\n",
    "adc = adc_module.ADC()\n",
    "\n",
    "deltav=voltage\n",
    "Vin=adc.read_voltage(channel)/1000\n",
    "To=298.0  #To of NTC\n",
    "Ri=int(R0)*math.exp(-int(b)/To)\n",
    "Rn=(Vin*int(Rfx))/((deltav)-Vin)\n",
    "T=int(b)/(math.log(Rn/Ri))-273\n",
    "\n",
    "print(f\"Temperature {T} C\")"
   ]
  },
  {
   "cell_type": "markdown",
   "id": "4b0a06a1",
   "metadata": {},
   "source": [
    "This is potentially very messy to write down each time we want a temperature, so therefore we create a temperature sensor class, which has a function `read_temperature`. In our script, we can then create a sensor object, and call the `read_temperature` function of this object each time we want a temperature reading. If you are not familiar with classes in programming, this will be a good example to get familiar."
   ]
  },
  {
   "cell_type": "code",
   "execution_count": null,
   "id": "b3a21e42",
   "metadata": {},
   "outputs": [],
   "source": [
    "import math\n",
    "import i2c_module\n",
    "import adc_module\n",
    "\n",
    "class NTC:\n",
    "    def __init__(self,channel,voltage):\n",
    "        # Define initial parameters of this one sensor object\n",
    "        self.channel = channel\n",
    "        self.R0 = 10000\n",
    "        self.b = 3936\n",
    "        self.Rfx = 91000\n",
    "        self.voltage = voltage\n",
    "        self.adc = adc_module.ADC()\n",
    "\n",
    "    def read_temperature(self):\n",
    "        # Function tor return temperature of this one sensor object\n",
    "        milli = 1000\n",
    "        deltav=self.voltage\n",
    "        Vin=self.adc.read_voltage(self.channel)/milli\n",
    "        To=298.0  #To of NTC\n",
    "        Ri=int(self.R0)*math.exp(-int(self.b)/To)\n",
    "        Rn=(Vin*int(self.Rfx))/((deltav)-Vin)\n",
    "        T=int(self.b)/(math.log(Rn/Ri))-273\n",
    "        return round(T,2)"
   ]
  },
  {
   "cell_type": "markdown",
   "id": "65db0d22",
   "metadata": {},
   "source": [
    "After the class is defined, we create an object of that class, and assign it to a variable name"
   ]
  },
  {
   "cell_type": "code",
   "execution_count": null,
   "id": "2ac88287",
   "metadata": {},
   "outputs": [],
   "source": [
    "# NTC object, channel 0, voltage 5.21\n",
    "ch = 0\n",
    "vol = 5.21\n",
    "sensor_1 = NTC(ch, vol)"
   ]
  },
  {
   "cell_type": "markdown",
   "id": "b1d79e55",
   "metadata": {},
   "source": [
    "We can then very easily read the temperature in one line"
   ]
  },
  {
   "cell_type": "code",
   "execution_count": null,
   "id": "f8635fbe",
   "metadata": {},
   "outputs": [],
   "source": [
    "print('Temperature', f\"{sensor_1.read_temperature()} C\", end='\\r')"
   ]
  },
  {
   "cell_type": "markdown",
   "id": "4b2fcce2",
   "metadata": {},
   "source": [
    "We can also read out the temperature continuously in a `for` loop. In Jupyter click the stop symbol at the top of the notebook to stop the cell execution."
   ]
  },
  {
   "cell_type": "code",
   "execution_count": null,
   "id": "ec9e7394",
   "metadata": {},
   "outputs": [],
   "source": [
    "import time\n",
    "for i in range(0,20):\n",
    "    print('Temperature', f\"{sensor_1.read_temperature()} C\", end='\\r')\n",
    "    time.sleep(1)"
   ]
  },
  {
   "cell_type": "markdown",
   "id": "65fdd6d5",
   "metadata": {},
   "source": [
    "**Exercise**: Add a second voltage divider with a second NTC. Create a second temperature sensor object in the code above and print both the temperatures. Ask someone to dobule check your wiring for this exercise"
   ]
  },
  {
   "cell_type": "markdown",
   "id": "26fe309c",
   "metadata": {},
   "source": [
    "## Measuring temperature of a component\n",
    "\n",
    "**Don't forget to unplug the 5V from the voltage divider**. Now bend the NTC so that it touches the resistor of the blue LED. Make sure that the legs of the NTC are not touching each other, this would short circuit the NTC. Dobule check that everything looks OK, then re-insert the 5V.\n",
    "\n",
    "**Exercise**: What do you think will happen to the temperature when G18 is ON?"
   ]
  },
  {
   "cell_type": "markdown",
   "id": "5c0b7fac",
   "metadata": {},
   "source": [
    "The code below will measure the temperature while the PWM of G18 is running at full power. The code looks messy, but it is not very different from the gode from the PWM example and the temperature measurement loop above. The added things at the bottom are there to make sure that things are turned off when the code is finished, or when you abort it."
   ]
  },
  {
   "cell_type": "code",
   "execution_count": null,
   "id": "037f4f49",
   "metadata": {},
   "outputs": [],
   "source": [
    "# Initialize the output pins enabling 18 as output\n",
    "import RPi.GPIO as GPIO\n",
    "import time\n",
    "\n",
    "GPIO.setmode(GPIO.BCM)\n",
    "GPIO.setwarnings(False)\n",
    "GPIO.setup(18,GPIO.OUT)\n",
    "\n",
    "# create PWM instance with frequency, and\n",
    "# start PWM of required Duty Cycle\n",
    "pi_pwm = GPIO.PWM(18,1000)\n",
    "pi_pwm.start(0)\n",
    "\n",
    "print(f\"Initial temperature: {sensor_1.read_temperature()}\")\n",
    "\n",
    "pi_pwm.ChangeDutyCycle(100)\n",
    "\n",
    "# Do the reading for 20 loops or until Ctrl-C is pressed\n",
    "try:\n",
    "    for i in range(0,20):\n",
    "        print('Temperature', f\"{sensor_1.read_temperature()} C\", end='\\r')\n",
    "        time.sleep(1)\n",
    "\n",
    "# Exit gracefully if you stop the script and print temperature one last time\n",
    "except KeyboardInterrupt:\n",
    "    print(f\"Final temperature: {sensor_1.read_temperature()}\")\n",
    "    pi_pwm.stop()\n",
    "    sys.exit()\n",
    "\n",
    "# Exit gracefully and print temperature one last time\n",
    "print(f\"Final temperature: {sensor_1.read_temperature()}\")\n",
    "pi_pwm.stop()\n",
    "GPIO.cleanup()\n",
    "\n",
    "#\n",
    "# Alternatively turn this also into a function\n",
    "#"
   ]
  },
  {
   "cell_type": "markdown",
   "id": "309d869d",
   "metadata": {},
   "source": [
    "Unplugg the 5V to the blue LED. Replace the blue LED and its resistor with a big 55 Ohm resistor. Dobule check your wiring with the image below. Re-connect the 5V, but now to the 55 Ohm resistor.\n",
    "\n",
    "![](images/im7.jpg)"
   ]
  },
  {
   "cell_type": "markdown",
   "id": "9e3cdf7a",
   "metadata": {},
   "source": [
    "Run the previous code again, but now with the large, lower Ohm resistor.\n",
    "\n",
    "**Exercise**: What do you think will be different now?\\\n",
    "**Exercise**: What is the difference? Why?\\\n",
    "**Exercise**: Why are resistors with low Ohms larger?"
   ]
  },
  {
   "cell_type": "markdown",
   "id": "fd58f0c3",
   "metadata": {},
   "source": [
    "# Control systems, PID\n",
    "PID controllers is a very simple, but powerful tool in control systems and automation. It is used for keeping a steady speed using the the cruise-control of your car, and it is used for controlling the power of quadcopter propellers. The modern day PID controller is as old as 1922 when it was developed for automatic control of US navy ships (https://en.wikipedia.org/wiki/PID_controller)\n",
    "\n",
    "Hopefully this slide helps a little bit:\n",
    "![](images/PID.jpg)\n",
    "\n",
    "For my HELIOS project I worked together with Jonas at DESY on a \"coldbox\". The coldbox uses peltier elements to thermally cycles new ATLAS detector modules inorder to quality test them. The code below was largely copied from what I developed during that project. Now these boxes and its software has been shipped to 14 other ATLAS institutes around the world where thousands of modules will be cycled for the coming years.\n",
    "\n",
    "![](images/coldbox.jpg)\n",
    "\n",
    "Here is a great introduction series which I used to develop the PID controller that I used on my project: https://www.youtube.com/watch?v=wkfEZmsQqiA&t=7s"
   ]
  },
  {
   "cell_type": "markdown",
   "id": "3404cb36",
   "metadata": {},
   "source": [
    "As usual, we start by importing the necessary modules "
   ]
  },
  {
   "cell_type": "code",
   "execution_count": null,
   "id": "71caa7e7",
   "metadata": {},
   "outputs": [],
   "source": [
    "# for this section we import all the modules only here. Make sure you run this cell before running the ones below\n",
    "import RPi.GPIO as GPIO\n",
    "import time\n",
    "import sys\n",
    "from jupyterplot import ProgressPlot\n",
    "import numpy as np"
   ]
  },
  {
   "cell_type": "markdown",
   "id": "9d406c88",
   "metadata": {},
   "source": [
    "Define initial parameters like target temperature, target time, temperature sensor object, kp & ki & kd cosntants etc."
   ]
  },
  {
   "cell_type": "code",
   "execution_count": null,
   "id": "0d8b9d6d",
   "metadata": {},
   "outputs": [],
   "source": [
    "# Setup GPIO18 for PWM control of the power through the resistor\n",
    "GPIO.setmode(GPIO.BCM)\n",
    "GPIO.setwarnings(False)\n",
    "GPIO.setup(18,GPIO.OUT)\n",
    "pi_pwm = GPIO.PWM(18,1000)#create PWM instance with frequency\n",
    "\n",
    "# Define limits of our output\n",
    "duty_upper_limit = 100\n",
    "duty_lower_limit = 0\n",
    "\n",
    "# Set current time in seconds, and set the time limit\n",
    "current_time=0\n",
    "target_time=60*5\n",
    "time_list=[]\n",
    "time_list.append(0)\n",
    "\n",
    "# Define target temperature\n",
    "target_temperature = 40\n",
    "\n",
    "# Create a temperature sensor object\n",
    "sensor_1 = NTC(0,5.21)\n",
    "\n",
    "# Create an empty list to hold temperature values\n",
    "temperature_list=[]\n",
    "\n",
    "# PID part\n",
    "\n",
    "# Proportional\n",
    "kp = 15 # Constant for the proportinal part\n",
    "\n",
    "# Interal\n",
    "ki = 0.4 # Constant for the integral part\n",
    "integral_list=[]    # List to hold difference between current temperature and target temperature\n",
    "                    #The sum of this list is the integral\n",
    "saturated = True   # If the duty cycle is larger than 100 or less than 0 our system is saturated.\n",
    "                    # And the integral stops integrating. This is necessary to prevent \"Integral wind-up\"\n",
    "\n",
    "# Derivative \n",
    "kd = 20 # Constant for the derivative part"
   ]
  },
  {
   "cell_type": "markdown",
   "id": "a160d639",
   "metadata": {},
   "source": [
    "Read the comments ant try to understand what happens using the slide above. Feel free to ask me any questions.\n",
    "\n",
    "**WARNNG!** There is a high probability that this code fails shortly after execution due to some linear fit issue with the derivative part. When it does so, the code will exit **Without turning off power**. When this happens, just executethis cell:"
   ]
  },
  {
   "cell_type": "code",
   "execution_count": null,
   "id": "277ab219",
   "metadata": {},
   "outputs": [],
   "source": [
    "pi_pwm.stop()"
   ]
  },
  {
   "cell_type": "markdown",
   "id": "7138a7f5",
   "metadata": {},
   "source": [
    "The code below here starts the PID controller"
   ]
  },
  {
   "cell_type": "code",
   "execution_count": null,
   "id": "16edc645",
   "metadata": {},
   "outputs": [],
   "source": [
    "# Initialise plotting\n",
    "pp = ProgressPlot(plot_names=['Temperature', 'Proportional', 'Integral', 'Derivative'], x_lim=[0, 60*5], y_lim=[[25, 60],[0, 100],[0, 100],[0, 100]])\n",
    "\n",
    "integral_list=[] # Make sure integral list is empty if only this cell is run\n",
    "pi_pwm.start(0)#start PWM of required Duty Cycle \n",
    "iterator = 0 # Iterator used to keep derivative fit range small\n",
    "\n",
    "time_list = []\n",
    "temperature_list = []\n",
    "\n",
    "# We put the loop in a try/except block so that if you cancel prematurely,\n",
    "# the program still exits gracefully without leaving the hot resistor on\n",
    "try:\n",
    "    #While loopf for as long as the current time is less than the target\n",
    "    while current_time<target_time:\n",
    "        t0 = time.monotonic() # Start a stop watch to see how long one loop takes\n",
    "        \n",
    "        # Read the current temperature and append to a list\n",
    "        # This list is used to calculate the derivative\n",
    "        current_temperature = sensor_1.read_temperature() \n",
    "        temperature_list.append(current_temperature)\n",
    "        \n",
    "        # Calcualte the difference between the target temperatrue and current temperature.\n",
    "        # Often called the \"error\"\n",
    "        temperature_difference = target_temperature - current_temperature\n",
    "        \n",
    "        # Proportional\n",
    "        # The proportional part is just the error times the factor kp\n",
    "        P = temperature_difference * kp\n",
    "        \n",
    "        # Intergral\n",
    "        # The integral part is only the integral of all errros so far\n",
    "        # Since we use regular 1 second integra, we can simply use the sum\n",
    "        if saturated != True: # If the output is saturated, we do not att to the integral\n",
    "            integral_list.append(temperature_difference)\n",
    "        integral = sum(integral_list)\n",
    "        I = integral * ki\n",
    "        \n",
    "        # Derivative\n",
    "        # The derivative part is the slope of the temperature times kd\n",
    "        try:\n",
    "            slope = np.polyfit(time_list[iterator-7:iterator], temperature_list[iterator-7:iterator], 1)[0]\n",
    "            D = slope * kd\n",
    "        except TypeError:\n",
    "            D=0\n",
    "        except ValueError:\n",
    "            D=0\n",
    "        \n",
    "        # Propose an output value which is the sum of P and I minus D. Because we want D\n",
    "        # To counteract large rapid changes\n",
    "        proposed_duty = P + I - D\n",
    "        \n",
    "        # Check if value is within physical limits, if not set saturated to true to stop the integral.\n",
    "        if proposed_duty > duty_upper_limit:\n",
    "            saturated = True\n",
    "            applied_duty = duty_upper_limit\n",
    "        elif proposed_duty < duty_lower_limit:\n",
    "            saturated = True\n",
    "            applied_duty = duty_lower_limit\n",
    "        else:\n",
    "            saturated = False\n",
    "            applied_duty = proposed_duty\n",
    "\n",
    "        # Apply the proposed or modified proposed value at the limits\n",
    "        pi_pwm.ChangeDutyCycle(applied_duty)\n",
    "        \n",
    "        # Update plots\n",
    "        pp.update([[current_temperature],[P],[I],[D]])\n",
    "\n",
    "        # Calculate the time taken for everything and add what is needed for it to take 1 second to run\n",
    "        t1 = time.monotonic()\n",
    "        dt = t1 - t0\n",
    "        sleep_time = 1 - dt\n",
    "        time.sleep(sleep_time)\n",
    "        \n",
    "        # Append current time\n",
    "        current_time = current_time + dt +sleep_time\n",
    "        time_list.append(current_time)\n",
    "        \n",
    "        # Iterator used to keep derivative fit range small\n",
    "        iterator +=1\n",
    "            \n",
    "# Exit gracefully\n",
    "except KeyboardInterrupt or ValueError:\n",
    "    pi_pwm.stop()\n",
    "    pp.finalize()\n",
    "    sys.exit()\n",
    "\n",
    "pi_pwm.stop()\n",
    "pp.finalize()\n",
    "sys.exit()\n"
   ]
  },
  {
   "cell_type": "markdown",
   "id": "cbb92df1",
   "metadata": {},
   "source": [
    "**Exercise**: Look at ``proposed_duty = P + I - D`` in the code above. Comment out I and D and run the code again. How does the PID controller behave?\\\n",
    "**Exercise**: Add back the Integral part, what changes?\\\n",
    "**Exercise**: Can you describe integra wind-up?\\\n",
    "**Exercise**: Add back the Derivative, what changes?\\\n",
    "**Exercise**: How could you get rid of the spike in the Derivative?\\\n",
    "**Exercise**: Try changing the kp, ki, and kd parameters to \"Tune\" your PID controller to reach the target temperature faster. Did you succeed?\\\n",
    "**Exercise**: You can read about a heuristic method of tuning a PID controller here:https://en.wikipedia.org/wiki/Ziegler%E2%80%93Nichols_method\n"
   ]
  },
  {
   "cell_type": "code",
   "execution_count": null,
   "id": "9495722f",
   "metadata": {},
   "outputs": [],
   "source": []
  }
 ],
 "metadata": {
  "kernelspec": {
   "display_name": "Python 3 (ipykernel)",
   "language": "python",
   "name": "python3"
  },
  "language_info": {
   "codemirror_mode": {
    "name": "ipython",
    "version": 3
   },
   "file_extension": ".py",
   "mimetype": "text/x-python",
   "name": "python",
   "nbconvert_exporter": "python",
   "pygments_lexer": "ipython3",
   "version": "3.9.2"
  }
 },
 "nbformat": 4,
 "nbformat_minor": 5
}

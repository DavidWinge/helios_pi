{
 "cells": [
  {
   "cell_type": "markdown",
   "id": "4e13d9b1",
   "metadata": {},
   "source": [
    "# Raspberry Pi output\n",
    "Here we will look at an introduction how the raspberry PI GPIO pins can be used to trun on/off external components.\n",
    "\n",
    "Start by connecting the 5V of the breakout board to the red rail of the breadboard. And the ground of the breakout board to the blue rail. Also connect the upper and lower parts of the rail to to each other. We do this so that it is simple to connect new components to 5V and GND\n",
    "\n",
    "IMAGE\n"
   ]
  },
  {
   "cell_type": "markdown",
   "id": "e76b1b5e",
   "metadata": {},
   "source": [
    "Now connect a cable to GPIO pin 18 (G18 on the breakout board) and to anywhre on the board (orange). Then connect an LED and a 220 OHM resitor in series to G18 and to ground.\n",
    "\n",
    "IMAGE"
   ]
  },
  {
   "cell_type": "code",
   "execution_count": null,
   "id": "216873b6",
   "metadata": {},
   "outputs": [],
   "source": [
    "import RPi.GPIO as GPIO\n",
    "import time\n",
    "GPIO.setmode(GPIO.BCM)\n",
    "GPIO.setwarnings(False)\n",
    "GPIO.setup(18,GPIO.OUT)\n",
    "\n",
    "GPIO.output(18,GPIO.HIGH)\n",
    "time.sleep(2)\n",
    "GPIO.output(18,GPIO.LOW)\n",
    "\n",
    "GPIO.cleanup() "
   ]
  },
  {
   "cell_type": "markdown",
   "id": "e79dc26e",
   "metadata": {},
   "source": [
    "Now we have a good indicator that G18 is on. Let's try to control a larger current using G18 and a transistor.\n",
    "\n",
    "Instead of the LED and resitor going to ground, connect them to the base (middle pin) of a transitor. Connect the emittor (left pin) of the transistor to ground. In this way, when G18 is on, the transistor allows current to flow from the collector to ground.\n",
    "\n",
    "IMAGE\n",
    "\n",
    "Now connect a 220 Ohm resistor and a Blue LED in series to the collector and 5V.\n",
    "\n",
    "IMAGE\n",
    "\n",
    "Run the same code as before\n"
   ]
  },
  {
   "cell_type": "code",
   "execution_count": null,
   "id": "55b78118",
   "metadata": {},
   "outputs": [],
   "source": [
    "import RPi.GPIO as GPIO\n",
    "import time\n",
    "GPIO.setmode(GPIO.BCM)\n",
    "GPIO.setwarnings(False)\n",
    "GPIO.setup(18,GPIO.OUT)\n",
    "\n",
    "GPIO.output(18,GPIO.HIGH)\n",
    "time.sleep(2)\n",
    "GPIO.output(18,GPIO.LOW)\n",
    "\n",
    "GPIO.cleanup() "
   ]
  },
  {
   "cell_type": "markdown",
   "id": "904d2031",
   "metadata": {},
   "source": [
    "We are now using G18, which is 3.3V to drive a larger potential of 5V to power the blue LED"
   ]
  },
  {
   "cell_type": "markdown",
   "id": "0426f6fe",
   "metadata": {},
   "source": [
    "G18 can only be on and off. 3.3V or 0.0V. But G18 has a special feature called Pulse Width Modulation (PWM), where in a time span of 1 second it is on/off a certain number of times. And we can vary the width of the ON pulses to vary the power output of G18. We can use this to vary the brightness the LEDs."
   ]
  },
  {
   "cell_type": "code",
   "execution_count": null,
   "id": "b402763b",
   "metadata": {},
   "outputs": [],
   "source": [
    "GPIO.setmode(GPIO.BCM)\n",
    "GPIO.setwarnings(False)\n",
    "GPIO.setup(18,GPIO.OUT)\n",
    "pi_pwm = GPIO.PWM(18,1000)#create PWM instance with frequency\n",
    "pi_pwm.start(0)#start PWM of required Duty Cycle\n",
    "\n",
    "pi_pwm.ChangeDutyCycle(100)\n",
    "time.sleep(1)\n",
    "pi_pwm.ChangeDutyCycle(75)\n",
    "time.sleep(1)\n",
    "pi_pwm.ChangeDutyCycle(50)\n",
    "time.sleep(1)\n",
    "pi_pwm.ChangeDutyCycle(25)\n",
    "time.sleep(1)\n",
    "pi_pwm.ChangeDutyCycle(10)\n",
    "time.sleep(1)\n",
    "pi_pwm.ChangeDutyCycle(0)\n",
    "time.sleep(1)\n",
    "pi_pwm.ChangeDutyCycle(10)\n",
    "time.sleep(1)\n",
    "pi_pwm.ChangeDutyCycle(25)\n",
    "time.sleep(1)\n",
    "pi_pwm.ChangeDutyCycle(50)\n",
    "time.sleep(1)\n",
    "pi_pwm.ChangeDutyCycle(75)\n",
    "time.sleep(1)\n",
    "pi_pwm.ChangeDutyCycle(100)\n",
    "time.sleep(1)\n",
    "\n",
    "pi_pwm.stop()\n",
    "GPIO.cleanup() "
   ]
  },
  {
   "cell_type": "markdown",
   "id": "bb4db1f3",
   "metadata": {},
   "source": [
    "EXERCIES: Any ideas how this can be useful?"
   ]
  },
  {
   "cell_type": "markdown",
   "id": "ddca3b51",
   "metadata": {},
   "source": [
    "# ADC and voltage dividers\n",
    "\n",
    "Next we want to create a voltage divider between 5V and ground and measure it's voltage\n",
    "\n",
    "On the other half of the breadboard, connect a wire to 5V and out some distance on the breadboard\n",
    "\n",
    "IMAGE\n",
    "\n",
    "In series to the 5V, conenct a 91 kOhm ressistor, a NTC thermistor, and ground. Keep the long legs of the NTC, you  will need them later. Connect an open ended cable (probe) where the resistor and NTC are connected togehter.\n",
    "\n",
    "IMAGE\n",
    "\n",
    "**Always use probes like this, if you slip with the probes of the voltmeter you can physically destry the Raspberry Pi. IF you accidentally conec 5V and 3.3V the raspberry Pi dies instantly.**"
   ]
  },
  {
   "cell_type": "markdown",
   "id": "66e9284f",
   "metadata": {},
   "source": [
    "EXERCIES: Calculate the voltage at the probe.\\\n"
   ]
  },
  {
   "cell_type": "markdown",
   "id": "9c47cb0f",
   "metadata": {},
   "source": [
    "Connect the probe to A0 on the raspberry pi hat\n",
    "\n",
    "IMAGE"
   ]
  },
  {
   "cell_type": "code",
   "execution_count": 5,
   "id": "37b66140",
   "metadata": {},
   "outputs": [
    {
     "name": "stdout",
     "output_type": "stream",
     "text": [
      "0.58\n"
     ]
    }
   ],
   "source": [
    "import i2c\n",
    "import adc\n",
    "\n",
    "adc = adc.ADC()\n",
    "channel=0\n",
    "millli_volts = adc.read_voltage(channel)\n",
    "volts = millli_volts/1000\n",
    "print(volts)"
   ]
  },
  {
   "cell_type": "markdown",
   "id": "1e9c978b",
   "metadata": {},
   "source": [
    "EXERCIES: why is it dfferent from the calculated value?\\\n",
    "EXERCIES: The ADC is 12-bit and can measure between 0 and 3.3 volts. What resistance should the 91 kOhm resistor have to maximize the range?, i,e to have "
   ]
  },
  {
   "cell_type": "code",
   "execution_count": null,
   "id": "0f745964",
   "metadata": {},
   "outputs": [],
   "source": []
  }
 ],
 "metadata": {
  "kernelspec": {
   "display_name": "Python 3",
   "language": "python",
   "name": "python3"
  },
  "language_info": {
   "codemirror_mode": {
    "name": "ipython",
    "version": 3
   },
   "file_extension": ".py",
   "mimetype": "text/x-python",
   "name": "python",
   "nbconvert_exporter": "python",
   "pygments_lexer": "ipython3",
   "version": "3.9.2"
  }
 },
 "nbformat": 4,
 "nbformat_minor": 5
}
